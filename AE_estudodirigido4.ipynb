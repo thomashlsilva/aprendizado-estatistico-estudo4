{
 "cells": [
  {
   "cell_type": "markdown",
   "id": "58ae2052-9b51-4554-a14f-abac22973214",
   "metadata": {},
   "source": [
    "## Disciplina: Aprendizado Estatístico\n",
    "\n",
    "### Estudo Dirigido 4\n",
    "\n",
    "#### Introdução\n",
    "Neste estudo dirigido, exploraremos o processo de seleção de modelos em estatística usando o conjunto de dados `Hitters` e `R`. Vamos abordar técnicas como Best Subset Regression, Forward Stepwise Selection, Model Selection Using a Validation Set, Model Selection by Cross Validation, Ridge Regression e Lasso Regression.\n",
    "\n",
    "#### Análise Inicial\n",
    "- Carregue o pacote `ISLR`.\n",
    "- Resuma as estatísticas descritivas do conjunto de dados `Hitters` com `summary(Hitters)`.\n",
    "- Remova os valores ausentes do conjunto de dados com `Hitters=na.omit(Hitters)`."
   ]
  },
  {
   "cell_type": "code",
   "execution_count": 1,
   "id": "a294cd7b-cd49-4cdf-bf97-95fe3eeeb14d",
   "metadata": {},
   "outputs": [],
   "source": [
    "# library(ISLR)\n",
    "# summary(Hitters)\n",
    "data(Hitters, package = \"ISLR\")"
   ]
  },
  {
   "cell_type": "markdown",
   "id": "65423cd9-ad7a-4daa-bf67-93c150880758",
   "metadata": {},
   "source": [
    "- `library(ISLR)`: Carrega a biblioteca 'ISLR', que é uma coleção de conjuntos de dados para o livro *Introduction to Statistical Learning with Applications in R*\n",
    "\n",
    "- `summary(Hitters)`: Fornece informações resumidas sobre cada variável no conjunto de dados:\n",
    "  - Média, mediana, mínimo, máximo e quartis para variáveis numéricas\n",
    "  - Contagens para variáveis categóricas"
   ]
  },
  {
   "cell_type": "code",
   "execution_count": 2,
   "id": "56a1d6c2-972e-4012-ad25-c8589014153c",
   "metadata": {},
   "outputs": [
    {
     "name": "stdout",
     "output_type": "stream",
     "text": [
      "[1] \"NAs por coluna ANTES de na.omit():\"\n",
      "    AtBat      Hits     HmRun      Runs       RBI     Walks     Years    CAtBat \n",
      "        0         0         0         0         0         0         0         0 \n",
      "    CHits    CHmRun     CRuns      CRBI    CWalks    League  Division   PutOuts \n",
      "        0         0         0         0         0         0         0         0 \n",
      "  Assists    Errors    Salary NewLeague \n",
      "        0         0        59         0 \n",
      "[1] \"Total de linhas com NAs: 59\"\n"
     ]
    }
   ],
   "source": [
    "# NAs por coluna (antes de remover)\n",
    "print(\"NAs por coluna ANTES de na.omit():\")\n",
    "print(colSums(is.na(Hitters)))\n",
    "\n",
    "# Total de linhas com pelo menos 1 NA\n",
    "print(paste(\"Total de linhas com NAs:\", sum(!complete.cases(Hitters))))"
   ]
  },
  {
   "cell_type": "code",
   "execution_count": 3,
   "id": "aa8e2c21-59e5-4a9a-9498-4f6b14ab14b5",
   "metadata": {},
   "outputs": [
    {
     "data": {
      "text/html": [
       "0"
      ],
      "text/latex": [
       "0"
      ],
      "text/markdown": [
       "0"
      ],
      "text/plain": [
       "[1] 0"
      ]
     },
     "metadata": {},
     "output_type": "display_data"
    }
   ],
   "source": [
    "Hitters=na.omit(Hitters)\n",
    "with(Hitters,sum(is.na(Salary)))"
   ]
  },
  {
   "cell_type": "markdown",
   "id": "9e34ff61-0529-467f-b268-6f940546e6e4",
   "metadata": {},
   "source": [
    "- `Hitters=na.omit(Hitters)`: Remove todas as linhas com valores ausentes (NA):\n",
    "  - Resultou em 59 NAs removidos\n",
    "  - A função `na.omit` exclui observações com qualquer valor ausente\n",
    "\n",
    "- `with(Hitters, sum(is.na(Salary)))`: Verifica valores ausentes na variável `Salary` após a limpeza:\n",
    "  - `is.na(Salary)` retorna valores TRUE/FALSE para NAs\n",
    "  - `sum()` conta o total de NAs\n",
    "  - Resultado: 0 NAs encontrados"
   ]
  },
  {
   "cell_type": "markdown",
   "id": "a68d6064-2e86-4ab0-8f29-c5b2b2fe4518",
   "metadata": {},
   "source": [
    "#### Best Subset Regression\n",
    "- Use o pacote `leaps` para realizar a seleção de modelos de `Best Subset` com diferentes tamanhos.\n",
    "- Plote o critério Cp em função do número de variáveis.\n",
    "- Identifique o modelo com o menor Cp."
   ]
  },
  {
   "cell_type": "code",
   "execution_count": 4,
   "id": "0492444c-e180-457d-b7b1-8be3d714d558",
   "metadata": {},
   "outputs": [
    {
     "data": {
      "text/plain": [
       "Subset selection object\n",
       "Call: regsubsets.formula(Salary ~ ., data = Hitters)\n",
       "19 Variables  (and intercept)\n",
       "           Forced in Forced out\n",
       "AtBat          FALSE      FALSE\n",
       "Hits           FALSE      FALSE\n",
       "HmRun          FALSE      FALSE\n",
       "Runs           FALSE      FALSE\n",
       "RBI            FALSE      FALSE\n",
       "Walks          FALSE      FALSE\n",
       "Years          FALSE      FALSE\n",
       "CAtBat         FALSE      FALSE\n",
       "CHits          FALSE      FALSE\n",
       "CHmRun         FALSE      FALSE\n",
       "CRuns          FALSE      FALSE\n",
       "CRBI           FALSE      FALSE\n",
       "CWalks         FALSE      FALSE\n",
       "LeagueN        FALSE      FALSE\n",
       "DivisionW      FALSE      FALSE\n",
       "PutOuts        FALSE      FALSE\n",
       "Assists        FALSE      FALSE\n",
       "Errors         FALSE      FALSE\n",
       "NewLeagueN     FALSE      FALSE\n",
       "1 subsets of each size up to 8\n",
       "Selection Algorithm: exhaustive\n",
       "         AtBat Hits HmRun Runs RBI Walks Years CAtBat CHits CHmRun CRuns CRBI\n",
       "1  ( 1 ) \" \"   \" \"  \" \"   \" \"  \" \" \" \"   \" \"   \" \"    \" \"   \" \"    \" \"   \"*\" \n",
       "2  ( 1 ) \" \"   \"*\"  \" \"   \" \"  \" \" \" \"   \" \"   \" \"    \" \"   \" \"    \" \"   \"*\" \n",
       "3  ( 1 ) \" \"   \"*\"  \" \"   \" \"  \" \" \" \"   \" \"   \" \"    \" \"   \" \"    \" \"   \"*\" \n",
       "4  ( 1 ) \" \"   \"*\"  \" \"   \" \"  \" \" \" \"   \" \"   \" \"    \" \"   \" \"    \" \"   \"*\" \n",
       "5  ( 1 ) \"*\"   \"*\"  \" \"   \" \"  \" \" \" \"   \" \"   \" \"    \" \"   \" \"    \" \"   \"*\" \n",
       "6  ( 1 ) \"*\"   \"*\"  \" \"   \" \"  \" \" \"*\"   \" \"   \" \"    \" \"   \" \"    \" \"   \"*\" \n",
       "7  ( 1 ) \" \"   \"*\"  \" \"   \" \"  \" \" \"*\"   \" \"   \"*\"    \"*\"   \"*\"    \" \"   \" \" \n",
       "8  ( 1 ) \"*\"   \"*\"  \" \"   \" \"  \" \" \"*\"   \" \"   \" \"    \" \"   \"*\"    \"*\"   \" \" \n",
       "         CWalks LeagueN DivisionW PutOuts Assists Errors NewLeagueN\n",
       "1  ( 1 ) \" \"    \" \"     \" \"       \" \"     \" \"     \" \"    \" \"       \n",
       "2  ( 1 ) \" \"    \" \"     \" \"       \" \"     \" \"     \" \"    \" \"       \n",
       "3  ( 1 ) \" \"    \" \"     \" \"       \"*\"     \" \"     \" \"    \" \"       \n",
       "4  ( 1 ) \" \"    \" \"     \"*\"       \"*\"     \" \"     \" \"    \" \"       \n",
       "5  ( 1 ) \" \"    \" \"     \"*\"       \"*\"     \" \"     \" \"    \" \"       \n",
       "6  ( 1 ) \" \"    \" \"     \"*\"       \"*\"     \" \"     \" \"    \" \"       \n",
       "7  ( 1 ) \" \"    \" \"     \"*\"       \"*\"     \" \"     \" \"    \" \"       \n",
       "8  ( 1 ) \"*\"    \" \"     \"*\"       \"*\"     \" \"     \" \"    \" \"       "
      ]
     },
     "metadata": {},
     "output_type": "display_data"
    },
    {
     "data": {
      "text/html": [
       "<style>\n",
       ".list-inline {list-style: none; margin:0; padding: 0}\n",
       ".list-inline>li {display: inline-block}\n",
       ".list-inline>li:not(:last-child)::after {content: \"\\00b7\"; padding: 0 .5ex}\n",
       "</style>\n",
       "<ol class=list-inline><li>'which'</li><li>'rsq'</li><li>'rss'</li><li>'adjr2'</li><li>'cp'</li><li>'bic'</li><li>'outmat'</li><li>'obj'</li></ol>\n"
      ],
      "text/latex": [
       "\\begin{enumerate*}\n",
       "\\item 'which'\n",
       "\\item 'rsq'\n",
       "\\item 'rss'\n",
       "\\item 'adjr2'\n",
       "\\item 'cp'\n",
       "\\item 'bic'\n",
       "\\item 'outmat'\n",
       "\\item 'obj'\n",
       "\\end{enumerate*}\n"
      ],
      "text/markdown": [
       "1. 'which'\n",
       "2. 'rsq'\n",
       "3. 'rss'\n",
       "4. 'adjr2'\n",
       "5. 'cp'\n",
       "6. 'bic'\n",
       "7. 'outmat'\n",
       "8. 'obj'\n",
       "\n",
       "\n"
      ],
      "text/plain": [
       "[1] \"which\"  \"rsq\"    \"rss\"    \"adjr2\"  \"cp\"     \"bic\"    \"outmat\" \"obj\"   "
      ]
     },
     "metadata": {},
     "output_type": "display_data"
    }
   ],
   "source": [
    "library(leaps)\n",
    "regfit.full=regsubsets(Salary~.,data=Hitters)\n",
    "summary(regfit.full)\n",
    "regfit.full=regsubsets(Salary~.,data=Hitters, nvmax=19)\n",
    "reg.summary=summary(regfit.full)\n",
    "names(reg.summary)"
   ]
  },
  {
   "cell_type": "markdown",
   "id": "001aef85-aa1c-4c4b-a9e1-95cac6dd16b3",
   "metadata": {},
   "source": [
    "- **`regsubsets(Salary ~ ., data = Hitters)`**  \n",
    "  Ajusta todos os possíveis subconjuntos de variáveis independentes para prever `Salary`\n",
    "\n",
    "- **`Salary ~ .`**  \n",
    "  Fórmula que indica o uso de todas as variáveis do conjunto de dados como preditoras\n",
    "\n",
    "- **`regfit.full`**  \n",
    "  Variável que armazena o resultado do ajuste do modelo\n",
    "\n",
    "- **`regsubsets(Salary ~ ., data = Hitters, nvmax = 19)`**  \n",
    "  Limita o ajuste dos modelos a um máximo de 19 variáveis\n",
    "\n",
    "- **`names(reg.summary)`**  \n",
    "  Exibe as métricas disponíveis para avaliação dos modelos"
   ]
  },
  {
   "cell_type": "code",
   "execution_count": 5,
   "id": "89b4d859-2823-4097-8362-f1f20683de91",
   "metadata": {},
   "outputs": [
    {
     "data": {
      "text/html": [
       "10"
      ],
      "text/latex": [
       "10"
      ],
      "text/markdown": [
       "10"
      ],
      "text/plain": [
       "[1] 10"
      ]
     },
     "metadata": {},
     "output_type": "display_data"
    },
    {
     "data": {
      "image/png": "[encoded data removed]",
      "text/plain": [
       "plot without title"
      ]
     },
     "metadata": {
      "image/png": {
       "height": 420,
       "width": 420
      }
     },
     "output_type": "display_data"
    }
   ],
   "source": [
    "plot(reg.summary$cp,xlab=\"Number of Variables\",ylab=\"Critério de Mallows -Cp\")\n",
    "# Melhor modelo\n",
    "which.min(reg.summary$cp)\n",
    "points(10,reg.summary$cp[10],pch=20,col=\"red\")"
   ]
  },
  {
   "cell_type": "markdown",
   "id": "7841a72f-0908-4c51-9955-35a83d54f095",
   "metadata": {},
   "source": [
    "O ponto destacado em vermelho no gráfico identifica claramente o melhor compromisso entre:\n",
    "- Menor número de variáveis\n",
    "- Menor valor de Cp\n",
    "- Bom ajuste aos dados"
   ]
  },
  {
   "cell_type": "markdown",
   "id": "ea866678-fb37-4c1d-8253-68ffb289bd1b",
   "metadata": {},
   "source": [
    "#### Forward Stepwise Selection\n",
    "- Realize a seleção de modelos usando o método `Forward Stepwise Selection`.\n",
    "- Plote o critério Cp em função do número de variáveis."
   ]
  },
  {
   "cell_type": "code",
   "execution_count": 6,
   "id": "b98eb260-abf7-471a-807a-312ebd59779c",
   "metadata": {},
   "outputs": [
    {
     "data": {
      "text/html": [
       "<style>\n",
       ".dl-inline {width: auto; margin:0; padding: 0}\n",
       ".dl-inline>dt, .dl-inline>dd {float: none; width: auto; display: inline-block}\n",
       ".dl-inline>dt::after {content: \":\\0020\"; padding-right: .5ex}\n",
       ".dl-inline>dt:not(:first-of-type) {padding-left: .5ex}\n",
       "</style><dl class=dl-inline><dt>(Intercept)</dt><dd>162.535442040545</dd><dt>AtBat</dt><dd>-2.16865005340437</dd><dt>Hits</dt><dd>6.91801749476659</dd><dt>Walks</dt><dd>5.7732246470264</dd><dt>CAtBat</dt><dd>-0.130079783913646</dd><dt>CRuns</dt><dd>1.40824900877044</dd><dt>CRBI</dt><dd>0.774312153250204</dd><dt>CWalks</dt><dd>-0.830826351501743</dd><dt>DivisionW</dt><dd>-112.380057493543</dd><dt>PutOuts</dt><dd>0.297372596603942</dd><dt>Assists</dt><dd>0.283168028635278</dd></dl>\n"
      ],
      "text/latex": [
       "\\begin{description*}\n",
       "\\item[(Intercept)] 162.535442040545\n",
       "\\item[AtBat] -2.16865005340437\n",
       "\\item[Hits] 6.91801749476659\n",
       "\\item[Walks] 5.7732246470264\n",
       "\\item[CAtBat] -0.130079783913646\n",
       "\\item[CRuns] 1.40824900877044\n",
       "\\item[CRBI] 0.774312153250204\n",
       "\\item[CWalks] -0.830826351501743\n",
       "\\item[DivisionW] -112.380057493543\n",
       "\\item[PutOuts] 0.297372596603942\n",
       "\\item[Assists] 0.283168028635278\n",
       "\\end{description*}\n"
      ],
      "text/markdown": [
       "(Intercept)\n",
       ":   162.535442040545AtBat\n",
       ":   -2.16865005340437Hits\n",
       ":   6.91801749476659Walks\n",
       ":   5.7732246470264CAtBat\n",
       ":   -0.130079783913646CRuns\n",
       ":   1.40824900877044CRBI\n",
       ":   0.774312153250204CWalks\n",
       ":   -0.830826351501743DivisionW\n",
       ":   -112.380057493543PutOuts\n",
       ":   0.297372596603942Assists\n",
       ":   0.283168028635278\n",
       "\n"
      ],
      "text/plain": [
       " (Intercept)        AtBat         Hits        Walks       CAtBat        CRuns \n",
       " 162.5354420   -2.1686501    6.9180175    5.7732246   -0.1300798    1.4082490 \n",
       "        CRBI       CWalks    DivisionW      PutOuts      Assists \n",
       "   0.7743122   -0.8308264 -112.3800575    0.2973726    0.2831680 "
      ]
     },
     "metadata": {},
     "output_type": "display_data"
    },
    {
     "data": {
      "image/png": "[encoded data removed]",
      "text/plain": [
       "plot without title"
      ]
     },
     "metadata": {
      "image/png": {
       "height": 420,
       "width": 420
      }
     },
     "output_type": "display_data"
    }
   ],
   "source": [
    "plot(regfit.full,scale=\"Cp\")\n",
    "coef(regfit.full,10)"
   ]
  },
  {
   "cell_type": "code",
   "execution_count": 7,
   "id": "ec6df013-54c5-4cb7-b9a8-629687f7c271",
   "metadata": {},
   "outputs": [
    {
     "data": {
      "text/plain": [
       "Subset selection object\n",
       "Call: regsubsets.formula(Salary ~ ., data = Hitters, nvmax = 19, method = \"forward\")\n",
       "19 Variables  (and intercept)\n",
       "           Forced in Forced out\n",
       "AtBat          FALSE      FALSE\n",
       "Hits           FALSE      FALSE\n",
       "HmRun          FALSE      FALSE\n",
       "Runs           FALSE      FALSE\n",
       "RBI            FALSE      FALSE\n",
       "Walks          FALSE      FALSE\n",
       "Years          FALSE      FALSE\n",
       "CAtBat         FALSE      FALSE\n",
       "CHits          FALSE      FALSE\n",
       "CHmRun         FALSE      FALSE\n",
       "CRuns          FALSE      FALSE\n",
       "CRBI           FALSE      FALSE\n",
       "CWalks         FALSE      FALSE\n",
       "LeagueN        FALSE      FALSE\n",
       "DivisionW      FALSE      FALSE\n",
       "PutOuts        FALSE      FALSE\n",
       "Assists        FALSE      FALSE\n",
       "Errors         FALSE      FALSE\n",
       "NewLeagueN     FALSE      FALSE\n",
       "1 subsets of each size up to 19\n",
       "Selection Algorithm: forward\n",
       "          AtBat Hits HmRun Runs RBI Walks Years CAtBat CHits CHmRun CRuns CRBI\n",
       "1  ( 1 )  \" \"   \" \"  \" \"   \" \"  \" \" \" \"   \" \"   \" \"    \" \"   \" \"    \" \"   \"*\" \n",
       "2  ( 1 )  \" \"   \"*\"  \" \"   \" \"  \" \" \" \"   \" \"   \" \"    \" \"   \" \"    \" \"   \"*\" \n",
       "3  ( 1 )  \" \"   \"*\"  \" \"   \" \"  \" \" \" \"   \" \"   \" \"    \" \"   \" \"    \" \"   \"*\" \n",
       "4  ( 1 )  \" \"   \"*\"  \" \"   \" \"  \" \" \" \"   \" \"   \" \"    \" \"   \" \"    \" \"   \"*\" \n",
       "5  ( 1 )  \"*\"   \"*\"  \" \"   \" \"  \" \" \" \"   \" \"   \" \"    \" \"   \" \"    \" \"   \"*\" \n",
       "6  ( 1 )  \"*\"   \"*\"  \" \"   \" \"  \" \" \"*\"   \" \"   \" \"    \" \"   \" \"    \" \"   \"*\" \n",
       "7  ( 1 )  \"*\"   \"*\"  \" \"   \" \"  \" \" \"*\"   \" \"   \" \"    \" \"   \" \"    \" \"   \"*\" \n",
       "8  ( 1 )  \"*\"   \"*\"  \" \"   \" \"  \" \" \"*\"   \" \"   \" \"    \" \"   \" \"    \"*\"   \"*\" \n",
       "9  ( 1 )  \"*\"   \"*\"  \" \"   \" \"  \" \" \"*\"   \" \"   \"*\"    \" \"   \" \"    \"*\"   \"*\" \n",
       "10  ( 1 ) \"*\"   \"*\"  \" \"   \" \"  \" \" \"*\"   \" \"   \"*\"    \" \"   \" \"    \"*\"   \"*\" \n",
       "11  ( 1 ) \"*\"   \"*\"  \" \"   \" \"  \" \" \"*\"   \" \"   \"*\"    \" \"   \" \"    \"*\"   \"*\" \n",
       "12  ( 1 ) \"*\"   \"*\"  \" \"   \"*\"  \" \" \"*\"   \" \"   \"*\"    \" \"   \" \"    \"*\"   \"*\" \n",
       "13  ( 1 ) \"*\"   \"*\"  \" \"   \"*\"  \" \" \"*\"   \" \"   \"*\"    \" \"   \" \"    \"*\"   \"*\" \n",
       "14  ( 1 ) \"*\"   \"*\"  \"*\"   \"*\"  \" \" \"*\"   \" \"   \"*\"    \" \"   \" \"    \"*\"   \"*\" \n",
       "15  ( 1 ) \"*\"   \"*\"  \"*\"   \"*\"  \" \" \"*\"   \" \"   \"*\"    \"*\"   \" \"    \"*\"   \"*\" \n",
       "16  ( 1 ) \"*\"   \"*\"  \"*\"   \"*\"  \"*\" \"*\"   \" \"   \"*\"    \"*\"   \" \"    \"*\"   \"*\" \n",
       "17  ( 1 ) \"*\"   \"*\"  \"*\"   \"*\"  \"*\" \"*\"   \" \"   \"*\"    \"*\"   \" \"    \"*\"   \"*\" \n",
       "18  ( 1 ) \"*\"   \"*\"  \"*\"   \"*\"  \"*\" \"*\"   \"*\"   \"*\"    \"*\"   \" \"    \"*\"   \"*\" \n",
       "19  ( 1 ) \"*\"   \"*\"  \"*\"   \"*\"  \"*\" \"*\"   \"*\"   \"*\"    \"*\"   \"*\"    \"*\"   \"*\" \n",
       "          CWalks LeagueN DivisionW PutOuts Assists Errors NewLeagueN\n",
       "1  ( 1 )  \" \"    \" \"     \" \"       \" \"     \" \"     \" \"    \" \"       \n",
       "2  ( 1 )  \" \"    \" \"     \" \"       \" \"     \" \"     \" \"    \" \"       \n",
       "3  ( 1 )  \" \"    \" \"     \" \"       \"*\"     \" \"     \" \"    \" \"       \n",
       "4  ( 1 )  \" \"    \" \"     \"*\"       \"*\"     \" \"     \" \"    \" \"       \n",
       "5  ( 1 )  \" \"    \" \"     \"*\"       \"*\"     \" \"     \" \"    \" \"       \n",
       "6  ( 1 )  \" \"    \" \"     \"*\"       \"*\"     \" \"     \" \"    \" \"       \n",
       "7  ( 1 )  \"*\"    \" \"     \"*\"       \"*\"     \" \"     \" \"    \" \"       \n",
       "8  ( 1 )  \"*\"    \" \"     \"*\"       \"*\"     \" \"     \" \"    \" \"       \n",
       "9  ( 1 )  \"*\"    \" \"     \"*\"       \"*\"     \" \"     \" \"    \" \"       \n",
       "10  ( 1 ) \"*\"    \" \"     \"*\"       \"*\"     \"*\"     \" \"    \" \"       \n",
       "11  ( 1 ) \"*\"    \"*\"     \"*\"       \"*\"     \"*\"     \" \"    \" \"       \n",
       "12  ( 1 ) \"*\"    \"*\"     \"*\"       \"*\"     \"*\"     \" \"    \" \"       \n",
       "13  ( 1 ) \"*\"    \"*\"     \"*\"       \"*\"     \"*\"     \"*\"    \" \"       \n",
       "14  ( 1 ) \"*\"    \"*\"     \"*\"       \"*\"     \"*\"     \"*\"    \" \"       \n",
       "15  ( 1 ) \"*\"    \"*\"     \"*\"       \"*\"     \"*\"     \"*\"    \" \"       \n",
       "16  ( 1 ) \"*\"    \"*\"     \"*\"       \"*\"     \"*\"     \"*\"    \" \"       \n",
       "17  ( 1 ) \"*\"    \"*\"     \"*\"       \"*\"     \"*\"     \"*\"    \"*\"       \n",
       "18  ( 1 ) \"*\"    \"*\"     \"*\"       \"*\"     \"*\"     \"*\"    \"*\"       \n",
       "19  ( 1 ) \"*\"    \"*\"     \"*\"       \"*\"     \"*\"     \"*\"    \"*\"       "
      ]
     },
     "metadata": {},
     "output_type": "display_data"
    },
    {
     "data": {
      "image/png": "[encoded data removed]",
      "text/plain": [
       "plot without title"
      ]
     },
     "metadata": {
      "image/png": {
       "height": 420,
       "width": 420
      }
     },
     "output_type": "display_data"
    }
   ],
   "source": [
    "# Ajuste do modelo usando seleção *forward*:\n",
    "regfit.fwd=regsubsets(Salary~.,data=Hitters,nvmax=19,method=\"forward\")\n",
    "summary(regfit.fwd)\n",
    "# Visualização dos resultados:\n",
    "plot(regfit.fwd,scale=\"Cp\")"
   ]
  },
  {
   "cell_type": "markdown",
   "id": "a94ce3a4-9786-4319-9ae7-1dbb116f6309",
   "metadata": {},
   "source": [
    "**Modelo ótimo**: \n",
    "\n",
    "Permanece com 10 variáveis em ambas abordagens\n",
    "\n",
    "**Diferenças observadas**:\n",
    "  - Outros modelos apresentam substituições de variáveis\n",
    "  - Forward Selection é computacionalmente mais eficiente\n",
    "  - Reduz risco de *overfitting* ao evitar busca exaustiva\n",
    "\n",
    "**A escolha entre métodos deve considerar**:\n",
    "  - Natureza dos dados\n",
    "  - Tamanho do conjunto de dados\n",
    "  - Balanceamento entre eficiência computacional e precisão"
   ]
  },
  {
   "cell_type": "markdown",
   "id": "843426c4-5859-438a-907a-0ea3e57a59a1",
   "metadata": {},
   "source": [
    "#### Model Selection Using a Validation Set\n",
    "- Divida o conjunto de dados em treinamento e validação.\n",
    "- Realize a seleção de modelos no conjunto de treinamento.\n",
    "- Faça previsões no conjunto de validação e calcule os erros.\n",
    "- Plote os erros de treinamento e validação em função do número de variáveis."
   ]
  },
  {
   "cell_type": "code",
   "execution_count": 8,
   "id": "9210ff38-6fbe-41e6-b772-29aba8ddfe4e",
   "metadata": {},
   "outputs": [
    {
     "data": {
      "text/html": [
       "<style>\n",
       ".list-inline {list-style: none; margin:0; padding: 0}\n",
       ".list-inline>li {display: inline-block}\n",
       ".list-inline>li:not(:last-child)::after {content: \"\\00b7\"; padding: 0 .5ex}\n",
       "</style>\n",
       "<ol class=list-inline><li>263</li><li>20</li></ol>\n"
      ],
      "text/latex": [
       "\\begin{enumerate*}\n",
       "\\item 263\n",
       "\\item 20\n",
       "\\end{enumerate*}\n"
      ],
      "text/markdown": [
       "1. 263\n",
       "2. 20\n",
       "\n",
       "\n"
      ],
      "text/plain": [
       "[1] 263  20"
      ]
     },
     "metadata": {},
     "output_type": "display_data"
    }
   ],
   "source": [
    "dim(Hitters)"
   ]
  },
  {
   "cell_type": "markdown",
   "id": "9cec2dd5-9d0f-481e-b654-3870e1e7030a",
   "metadata": {},
   "source": [
    "- **`dim(Hitters)`**  \n",
    "  Retorna as dimensões do conjunto de dados:  \n",
    "  - 263 amostras\n",
    "  - 20 variáveis"
   ]
  },
  {
   "cell_type": "code",
   "execution_count": 9,
   "id": "08c38f02-ca5d-4255-b0d5-6d8effb56a8f",
   "metadata": {},
   "outputs": [
    {
     "data": {
      "text/html": [
       "<style>\n",
       ".list-inline {list-style: none; margin:0; padding: 0}\n",
       ".list-inline>li {display: inline-block}\n",
       ".list-inline>li:not(:last-child)::after {content: \"\\00b7\"; padding: 0 .5ex}\n",
       "</style>\n",
       "<ol class=list-inline><li>70</li><li>219</li><li>9</li><li>247</li><li>137</li><li>182</li><li>229</li><li>140</li><li>164</li><li>74</li><li>185</li><li>90</li><li>78</li><li>143</li><li>136</li><li>167</li><li>179</li><li>119</li><li>217</li><li>222</li><li>49</li><li>213</li><li>246</li><li>6</li><li>18</li><li>109</li><li>112</li><li>132</li><li>98</li><li>83</li><li>156</li><li>190</li><li>261</li><li>115</li><li>93</li><li>121</li><li>147</li><li>66</li><li>209</li><li>216</li><li>263</li><li>100</li><li>197</li><li>72</li><li>224</li><li>32</li><li>239</li><li>60</li><li>245</li><li>144</li><li>53</li><li>31</li><li>259</li><li>87</li><li>157</li><li>134</li><li>201</li><li>63</li><li>221</li><li>84</li><li>129</li><li>108</li><li>45</li><li>237</li><li>8</li><li>162</li><li>124</li><li>210</li><li>30</li><li>2</li><li>165</li><li>202</li><li>114</li><li>12</li><li>46</li><li>208</li><li>149</li><li>15</li><li>113</li><li>135</li><li>206</li><li>57</li><li>62</li><li>10</li><li>75</li><li>125</li><li>212</li><li>110</li><li>148</li><li>236</li><li>211</li><li>207</li><li>174</li><li>95</li><li>128</li><li>177</li><li>138</li><li>82</li><li>198</li><li>52</li><li>240</li><li>166</li><li>20</li><li>25</li><li>11</li><li>68</li><li>218</li><li>41</li><li>194</li><li>1</li><li>126</li><li>44</li><li>215</li><li>175</li><li>154</li><li>71</li><li>171</li><li>231</li><li>69</li><li>251</li><li>262</li><li>180</li><li>223</li><li>159</li><li>58</li><li>127</li><li>65</li><li>55</li><li>186</li><li>21</li><li>234</li><li>7</li><li>50</li><li>77</li><li>42</li><li>120</li><li>258</li><li>123</li><li>40</li><li>257</li><li>56</li><li>238</li><li>141</li><li>33</li><li>103</li><li>79</li><li>24</li><li>254</li><li>176</li><li>5</li><li>170</li><li>243</li><li>255</li><li>91</li><li>172</li><li>47</li><li>142</li><li>241</li><li>226</li><li>38</li><li>97</li><li>116</li><li>13</li><li>19</li><li>3</li><li>131</li><li>200</li><li>160</li><li>203</li><li>139</li><li>260</li><li>54</li><li>181</li><li>252</li><li>187</li><li>17</li><li>4</li><li>76</li><li>173</li><li>81</li></ol>\n"
      ],
      "text/latex": [
       "\\begin{enumerate*}\n",
       "\\item 70\n",
       "\\item 219\n",
       "\\item 9\n",
       "\\item 247\n",
       "\\item 137\n",
       "\\item 182\n",
       "\\item 229\n",
       "\\item 140\n",
       "\\item 164\n",
       "\\item 74\n",
       "\\item 185\n",
       "\\item 90\n",
       "\\item 78\n",
       "\\item 143\n",
       "\\item 136\n",
       "\\item 167\n",
       "\\item 179\n",
       "\\item 119\n",
       "\\item 217\n",
       "\\item 222\n",
       "\\item 49\n",
       "\\item 213\n",
       "\\item 246\n",
       "\\item 6\n",
       "\\item 18\n",
       "\\item 109\n",
       "\\item 112\n",
       "\\item 132\n",
       "\\item 98\n",
       "\\item 83\n",
       "\\item 156\n",
       "\\item 190\n",
       "\\item 261\n",
       "\\item 115\n",
       "\\item 93\n",
       "\\item 121\n",
       "\\item 147\n",
       "\\item 66\n",
       "\\item 209\n",
       "\\item 216\n",
       "\\item 263\n",
       "\\item 100\n",
       "\\item 197\n",
       "\\item 72\n",
       "\\item 224\n",
       "\\item 32\n",
       "\\item 239\n",
       "\\item 60\n",
       "\\item 245\n",
       "\\item 144\n",
       "\\item 53\n",
       "\\item 31\n",
       "\\item 259\n",
       "\\item 87\n",
       "\\item 157\n",
       "\\item 134\n",
       "\\item 201\n",
       "\\item 63\n",
       "\\item 221\n",
       "\\item 84\n",
       "\\item 129\n",
       "\\item 108\n",
       "\\item 45\n",
       "\\item 237\n",
       "\\item 8\n",
       "\\item 162\n",
       "\\item 124\n",
       "\\item 210\n",
       "\\item 30\n",
       "\\item 2\n",
       "\\item 165\n",
       "\\item 202\n",
       "\\item 114\n",
       "\\item 12\n",
       "\\item 46\n",
       "\\item 208\n",
       "\\item 149\n",
       "\\item 15\n",
       "\\item 113\n",
       "\\item 135\n",
       "\\item 206\n",
       "\\item 57\n",
       "\\item 62\n",
       "\\item 10\n",
       "\\item 75\n",
       "\\item 125\n",
       "\\item 212\n",
       "\\item 110\n",
       "\\item 148\n",
       "\\item 236\n",
       "\\item 211\n",
       "\\item 207\n",
       "\\item 174\n",
       "\\item 95\n",
       "\\item 128\n",
       "\\item 177\n",
       "\\item 138\n",
       "\\item 82\n",
       "\\item 198\n",
       "\\item 52\n",
       "\\item 240\n",
       "\\item 166\n",
       "\\item 20\n",
       "\\item 25\n",
       "\\item 11\n",
       "\\item 68\n",
       "\\item 218\n",
       "\\item 41\n",
       "\\item 194\n",
       "\\item 1\n",
       "\\item 126\n",
       "\\item 44\n",
       "\\item 215\n",
       "\\item 175\n",
       "\\item 154\n",
       "\\item 71\n",
       "\\item 171\n",
       "\\item 231\n",
       "\\item 69\n",
       "\\item 251\n",
       "\\item 262\n",
       "\\item 180\n",
       "\\item 223\n",
       "\\item 159\n",
       "\\item 58\n",
       "\\item 127\n",
       "\\item 65\n",
       "\\item 55\n",
       "\\item 186\n",
       "\\item 21\n",
       "\\item 234\n",
       "\\item 7\n",
       "\\item 50\n",
       "\\item 77\n",
       "\\item 42\n",
       "\\item 120\n",
       "\\item 258\n",
       "\\item 123\n",
       "\\item 40\n",
       "\\item 257\n",
       "\\item 56\n",
       "\\item 238\n",
       "\\item 141\n",
       "\\item 33\n",
       "\\item 103\n",
       "\\item 79\n",
       "\\item 24\n",
       "\\item 254\n",
       "\\item 176\n",
       "\\item 5\n",
       "\\item 170\n",
       "\\item 243\n",
       "\\item 255\n",
       "\\item 91\n",
       "\\item 172\n",
       "\\item 47\n",
       "\\item 142\n",
       "\\item 241\n",
       "\\item 226\n",
       "\\item 38\n",
       "\\item 97\n",
       "\\item 116\n",
       "\\item 13\n",
       "\\item 19\n",
       "\\item 3\n",
       "\\item 131\n",
       "\\item 200\n",
       "\\item 160\n",
       "\\item 203\n",
       "\\item 139\n",
       "\\item 260\n",
       "\\item 54\n",
       "\\item 181\n",
       "\\item 252\n",
       "\\item 187\n",
       "\\item 17\n",
       "\\item 4\n",
       "\\item 76\n",
       "\\item 173\n",
       "\\item 81\n",
       "\\end{enumerate*}\n"
      ],
      "text/markdown": [
       "1. 70\n",
       "2. 219\n",
       "3. 9\n",
       "4. 247\n",
       "5. 137\n",
       "6. 182\n",
       "7. 229\n",
       "8. 140\n",
       "9. 164\n",
       "10. 74\n",
       "11. 185\n",
       "12. 90\n",
       "13. 78\n",
       "14. 143\n",
       "15. 136\n",
       "16. 167\n",
       "17. 179\n",
       "18. 119\n",
       "19. 217\n",
       "20. 222\n",
       "21. 49\n",
       "22. 213\n",
       "23. 246\n",
       "24. 6\n",
       "25. 18\n",
       "26. 109\n",
       "27. 112\n",
       "28. 132\n",
       "29. 98\n",
       "30. 83\n",
       "31. 156\n",
       "32. 190\n",
       "33. 261\n",
       "34. 115\n",
       "35. 93\n",
       "36. 121\n",
       "37. 147\n",
       "38. 66\n",
       "39. 209\n",
       "40. 216\n",
       "41. 263\n",
       "42. 100\n",
       "43. 197\n",
       "44. 72\n",
       "45. 224\n",
       "46. 32\n",
       "47. 239\n",
       "48. 60\n",
       "49. 245\n",
       "50. 144\n",
       "51. 53\n",
       "52. 31\n",
       "53. 259\n",
       "54. 87\n",
       "55. 157\n",
       "56. 134\n",
       "57. 201\n",
       "58. 63\n",
       "59. 221\n",
       "60. 84\n",
       "61. 129\n",
       "62. 108\n",
       "63. 45\n",
       "64. 237\n",
       "65. 8\n",
       "66. 162\n",
       "67. 124\n",
       "68. 210\n",
       "69. 30\n",
       "70. 2\n",
       "71. 165\n",
       "72. 202\n",
       "73. 114\n",
       "74. 12\n",
       "75. 46\n",
       "76. 208\n",
       "77. 149\n",
       "78. 15\n",
       "79. 113\n",
       "80. 135\n",
       "81. 206\n",
       "82. 57\n",
       "83. 62\n",
       "84. 10\n",
       "85. 75\n",
       "86. 125\n",
       "87. 212\n",
       "88. 110\n",
       "89. 148\n",
       "90. 236\n",
       "91. 211\n",
       "92. 207\n",
       "93. 174\n",
       "94. 95\n",
       "95. 128\n",
       "96. 177\n",
       "97. 138\n",
       "98. 82\n",
       "99. 198\n",
       "100. 52\n",
       "101. 240\n",
       "102. 166\n",
       "103. 20\n",
       "104. 25\n",
       "105. 11\n",
       "106. 68\n",
       "107. 218\n",
       "108. 41\n",
       "109. 194\n",
       "110. 1\n",
       "111. 126\n",
       "112. 44\n",
       "113. 215\n",
       "114. 175\n",
       "115. 154\n",
       "116. 71\n",
       "117. 171\n",
       "118. 231\n",
       "119. 69\n",
       "120. 251\n",
       "121. 262\n",
       "122. 180\n",
       "123. 223\n",
       "124. 159\n",
       "125. 58\n",
       "126. 127\n",
       "127. 65\n",
       "128. 55\n",
       "129. 186\n",
       "130. 21\n",
       "131. 234\n",
       "132. 7\n",
       "133. 50\n",
       "134. 77\n",
       "135. 42\n",
       "136. 120\n",
       "137. 258\n",
       "138. 123\n",
       "139. 40\n",
       "140. 257\n",
       "141. 56\n",
       "142. 238\n",
       "143. 141\n",
       "144. 33\n",
       "145. 103\n",
       "146. 79\n",
       "147. 24\n",
       "148. 254\n",
       "149. 176\n",
       "150. 5\n",
       "151. 170\n",
       "152. 243\n",
       "153. 255\n",
       "154. 91\n",
       "155. 172\n",
       "156. 47\n",
       "157. 142\n",
       "158. 241\n",
       "159. 226\n",
       "160. 38\n",
       "161. 97\n",
       "162. 116\n",
       "163. 13\n",
       "164. 19\n",
       "165. 3\n",
       "166. 131\n",
       "167. 200\n",
       "168. 160\n",
       "169. 203\n",
       "170. 139\n",
       "171. 260\n",
       "172. 54\n",
       "173. 181\n",
       "174. 252\n",
       "175. 187\n",
       "176. 17\n",
       "177. 4\n",
       "178. 76\n",
       "179. 173\n",
       "180. 81\n",
       "\n",
       "\n"
      ],
      "text/plain": [
       "  [1]  70 219   9 247 137 182 229 140 164  74 185  90  78 143 136 167 179 119\n",
       " [19] 217 222  49 213 246   6  18 109 112 132  98  83 156 190 261 115  93 121\n",
       " [37] 147  66 209 216 263 100 197  72 224  32 239  60 245 144  53  31 259  87\n",
       " [55] 157 134 201  63 221  84 129 108  45 237   8 162 124 210  30   2 165 202\n",
       " [73] 114  12  46 208 149  15 113 135 206  57  62  10  75 125 212 110 148 236\n",
       " [91] 211 207 174  95 128 177 138  82 198  52 240 166  20  25  11  68 218  41\n",
       "[109] 194   1 126  44 215 175 154  71 171 231  69 251 262 180 223 159  58 127\n",
       "[127]  65  55 186  21 234   7  50  77  42 120 258 123  40 257  56 238 141  33\n",
       "[145] 103  79  24 254 176   5 170 243 255  91 172  47 142 241 226  38  97 116\n",
       "[163]  13  19   3 131 200 160 203 139 260  54 181 252 187  17   4  76 173  81"
      ]
     },
     "metadata": {},
     "output_type": "display_data"
    }
   ],
   "source": [
    "train=sample(seq(263),180,replace=FALSE)\n",
    "train"
   ]
  },
  {
   "cell_type": "markdown",
   "id": "12db4502-0baf-45be-a48f-b2b0e73230d0",
   "metadata": {},
   "source": [
    "- **`train = sample(seq(263), 180, replace = FALSE)`**  \n",
    "  Cria um conjunto de treino com 180 observações selecionadas aleatoriamente"
   ]
  },
  {
   "cell_type": "code",
   "execution_count": 10,
   "id": "5e3bac47-b948-4913-add6-f02b06d6e08c",
   "metadata": {},
   "outputs": [],
   "source": [
    "regfit.fwd=regsubsets(Salary~.,data=Hitters[train,],nvmax=19,method=\"forward\")"
   ]
  },
  {
   "cell_type": "markdown",
   "id": "15957b26-fbee-4272-9c09-0b44c2f77947",
   "metadata": {},
   "source": [
    "- **`regfit.fwd = regsubsets(Salary ~ ., data = Hitters[train, ], nvmax = 19, method = \"forward\")`**  \n",
    "  Ajusta o modelo usando *Forward Stepwise Selection* com:\n",
    "  - Conjunto de treino\n",
    "  - Máximo de 19 variáveis preditoras"
   ]
  },
  {
   "cell_type": "code",
   "execution_count": 11,
   "id": "52b36f88-f057-4fb3-bb81-9fa15a0ba29a",
   "metadata": {},
   "outputs": [],
   "source": [
    "# Inicializa vetor para armazenar erros de validação\n",
    "val.errors=rep(NA,19)\n",
    "\n",
    "# Cria matriz de design para o conjunto de teste\n",
    "x.test=model.matrix(Salary~.,data=Hitters[-train,])# notice the -index!\n",
    "\n",
    "# Cálculo dos Erros\n",
    "for(i in 1:19){\n",
    "    coefi=coef(regfit.fwd,id=i)\n",
    "    pred=x.test[,names(coefi)]%*%coefi\n",
    "    val.errors[i]=mean((Hitters$Salary[-train]-pred)^2)\n",
    "}"
   ]
  },
  {
   "cell_type": "markdown",
   "id": "b708fc0b-4fd9-4c89-9771-51ac7235c2a9",
   "metadata": {},
   "source": [
    "Calcula o Root Mean Squared Error (RMSE) para cada modelo com 1 a 19 variáveis."
   ]
  },
  {
   "cell_type": "code",
   "execution_count": 12,
   "id": "50e1eead-69c2-4a16-abe8-994d9d870f9e",
   "metadata": {},
   "outputs": [
    {
     "data": {
      "image/png": "[encoded data removed]",
      "text/plain": [
       "plot without title"
      ]
     },
     "metadata": {
      "image/png": {
       "height": 420,
       "width": 420
      }
     },
     "output_type": "display_data"
    }
   ],
   "source": [
    "# Comparação entre erros de treino (azul) e validação (preto) para diferentes números de variáveis\n",
    "plot(sqrt(val.errors),ylab=\"Root MSE\",ylim=c(300,400),pch=19,type=\"b\")\n",
    "points(sqrt(regfit.fwd$rss[-1]/180),col=\"blue\",pch=19,type=\"b\")\n",
    "legend(\"topright\",legend=c(\"Training\",\"Validation\"),col=c(\"blue\",\"black\"),pch=19)\n",
    "\n",
    "# Define função para fazer previsões com os modelos ajustados.\n",
    "predict.regsubsets=function(object,newdata,id,...){\n",
    "    form=as.formula(object$call[[2]])\n",
    "    mat=model.matrix(form,newdata)\n",
    "    coefi=coef(object,id=id)\n",
    "    mat[,names(coefi)]%*%coefi\n",
    "}"
   ]
  },
  {
   "cell_type": "markdown",
   "id": "f0bac50f-4474-4f00-8152-78bbb842a961",
   "metadata": {},
   "source": [
    "Modelo Ótimo Teórico:\n",
    "  - 6 variáveis: Menor erro de validação (Root MSE) → Melhor generalização para novos dados.\n",
    "  - 19 variáveis: Erro de treino mínimo → Overfitting garantido (modelo se ajusta perfeitamente aos dados de treino, mas perde capacidade preditiva).\n",
    "\n",
    "Onde as duas curvas começam a divergir significativamente é o ponto ideal, então, o modelo com 10 variáveis apresenta:\n",
    "  - Menor erro de validação (Root MSE)\n",
    "  - Consistência com os resultados das abordagens anteriores\n",
    "  - Bom equilíbrio entre viés e variância"
   ]
  },
  {
   "cell_type": "markdown",
   "id": "0b401c8d-87e7-4c6e-93fb-62f573c637fb",
   "metadata": {},
   "source": [
    "#### Model Selection by Cross-Validation\n",
    "- Realize a seleção de modelos usando a validação cruzada de 10-fold.\n",
    "- Plote os erros médios quadráticos em função do número de variáveis."
   ]
  },
  {
   "cell_type": "code",
   "execution_count": 13,
   "id": "a8254237-d015-46f6-883e-cf0136aef377",
   "metadata": {},
   "outputs": [
    {
     "data": {
      "text/html": [
       "<style>\n",
       ".list-inline {list-style: none; margin:0; padding: 0}\n",
       ".list-inline>li {display: inline-block}\n",
       ".list-inline>li:not(:last-child)::after {content: \"\\00b7\"; padding: 0 .5ex}\n",
       "</style>\n",
       "<ol class=list-inline><li>4</li><li>1</li><li>9</li><li>3</li><li>8</li><li>2</li><li>4</li><li>6</li><li>1</li><li>6</li><li>4</li><li>1</li><li>2</li><li>8</li><li>2</li><li>8</li><li>5</li><li>8</li><li>9</li><li>3</li><li>9</li><li>5</li><li>4</li><li>7</li><li>3</li><li>10</li><li>5</li><li>3</li><li>7</li><li>2</li><li>1</li><li>3</li><li>7</li><li>5</li><li>1</li><li>10</li><li>3</li><li>8</li><li>8</li><li>2</li><li>3</li><li>6</li><li>3</li><li>7</li><li>5</li><li>10</li><li>7</li><li>7</li><li>7</li><li>8</li><li>6</li><li>9</li><li>4</li><li>6</li><li>5</li><li>1</li><li>5</li><li>1</li><li>10</li><li>8</li><li>2</li><li>9</li><li>4</li><li>7</li><li>5</li><li>1</li><li>9</li><li>5</li><li>6</li><li>6</li><li>6</li><li>7</li><li>6</li><li>5</li><li>6</li><li>9</li><li>3</li><li>9</li><li>5</li><li>8</li><li>7</li><li>2</li><li>9</li><li>4</li><li>4</li><li>9</li><li>2</li><li>9</li><li>7</li><li>9</li><li>2</li><li>10</li><li>9</li><li>10</li><li>9</li><li>7</li><li>2</li><li>9</li><li>9</li><li>8</li><li>8</li><li>3</li><li>2</li><li>1</li><li>8</li><li>8</li><li>8</li><li>7</li><li>4</li><li>7</li><li>6</li><li>2</li><li>1</li><li>10</li><li>3</li><li>7</li><li>2</li><li>2</li><li>10</li><li>3</li><li>2</li><li>6</li><li>7</li><li>4</li><li>5</li><li>6</li><li>1</li><li>4</li><li>4</li><li>5</li><li>6</li><li>2</li><li>3</li><li>4</li><li>7</li><li>3</li><li>1</li><li>7</li><li>3</li><li>3</li><li>4</li><li>3</li><li>2</li><li>1</li><li>8</li><li>8</li><li>9</li><li>8</li><li>2</li><li>3</li><li>1</li><li>5</li><li>2</li><li>2</li><li>4</li><li>10</li><li>6</li><li>1</li><li>4</li><li>10</li><li>5</li><li>3</li><li>2</li><li>10</li><li>3</li><li>7</li><li>9</li><li>6</li><li>10</li><li>8</li><li>4</li><li>10</li><li>5</li><li>1</li><li>1</li><li>1</li><li>3</li><li>4</li><li>8</li><li>3</li><li>1</li><li>8</li><li>8</li><li>8</li><li>5</li><li>1</li><li>5</li><li>7</li><li>7</li><li>1</li><li>10</li><li>2</li><li>10</li><li>9</li><li>8</li><li>1</li><li>5</li><li>5</li><li>1</li><li>4</li><li>5</li><li>6</li><li>6</li><li>10</li><li>3</li><li>4</li><li>4</li><li>1</li><li>1</li><li>10</li><li>5</li><li>2</li><li>6</li><li>5</li><li>2</li><li>3</li><li>6</li><li>8</li><li>4</li><li>7</li><li>9</li><li>4</li><li>5</li><li>6</li><li>9</li><li>10</li><li>2</li><li>10</li><li>10</li><li>5</li><li>10</li><li>3</li><li>10</li><li>4</li><li>6</li><li>7</li><li>10</li><li>8</li><li>3</li><li>4</li><li>10</li><li>2</li><li>9</li><li>6</li><li>3</li><li>6</li><li>10</li><li>4</li><li>9</li><li>1</li><li>7</li><li>9</li><li>6</li><li>6</li><li>1</li><li>10</li><li>8</li><li>5</li><li>9</li><li>7</li><li>9</li><li>2</li><li>7</li></ol>\n"
      ],
      "text/latex": [
       "\\begin{enumerate*}\n",
       "\\item 4\n",
       "\\item 1\n",
       "\\item 9\n",
       "\\item 3\n",
       "\\item 8\n",
       "\\item 2\n",
       "\\item 4\n",
       "\\item 6\n",
       "\\item 1\n",
       "\\item 6\n",
       "\\item 4\n",
       "\\item 1\n",
       "\\item 2\n",
       "\\item 8\n",
       "\\item 2\n",
       "\\item 8\n",
       "\\item 5\n",
       "\\item 8\n",
       "\\item 9\n",
       "\\item 3\n",
       "\\item 9\n",
       "\\item 5\n",
       "\\item 4\n",
       "\\item 7\n",
       "\\item 3\n",
       "\\item 10\n",
       "\\item 5\n",
       "\\item 3\n",
       "\\item 7\n",
       "\\item 2\n",
       "\\item 1\n",
       "\\item 3\n",
       "\\item 7\n",
       "\\item 5\n",
       "\\item 1\n",
       "\\item 10\n",
       "\\item 3\n",
       "\\item 8\n",
       "\\item 8\n",
       "\\item 2\n",
       "\\item 3\n",
       "\\item 6\n",
       "\\item 3\n",
       "\\item 7\n",
       "\\item 5\n",
       "\\item 10\n",
       "\\item 7\n",
       "\\item 7\n",
       "\\item 7\n",
       "\\item 8\n",
       "\\item 6\n",
       "\\item 9\n",
       "\\item 4\n",
       "\\item 6\n",
       "\\item 5\n",
       "\\item 1\n",
       "\\item 5\n",
       "\\item 1\n",
       "\\item 10\n",
       "\\item 8\n",
       "\\item 2\n",
       "\\item 9\n",
       "\\item 4\n",
       "\\item 7\n",
       "\\item 5\n",
       "\\item 1\n",
       "\\item 9\n",
       "\\item 5\n",
       "\\item 6\n",
       "\\item 6\n",
       "\\item 6\n",
       "\\item 7\n",
       "\\item 6\n",
       "\\item 5\n",
       "\\item 6\n",
       "\\item 9\n",
       "\\item 3\n",
       "\\item 9\n",
       "\\item 5\n",
       "\\item 8\n",
       "\\item 7\n",
       "\\item 2\n",
       "\\item 9\n",
       "\\item 4\n",
       "\\item 4\n",
       "\\item 9\n",
       "\\item 2\n",
       "\\item 9\n",
       "\\item 7\n",
       "\\item 9\n",
       "\\item 2\n",
       "\\item 10\n",
       "\\item 9\n",
       "\\item 10\n",
       "\\item 9\n",
       "\\item 7\n",
       "\\item 2\n",
       "\\item 9\n",
       "\\item 9\n",
       "\\item 8\n",
       "\\item 8\n",
       "\\item 3\n",
       "\\item 2\n",
       "\\item 1\n",
       "\\item 8\n",
       "\\item 8\n",
       "\\item 8\n",
       "\\item 7\n",
       "\\item 4\n",
       "\\item 7\n",
       "\\item 6\n",
       "\\item 2\n",
       "\\item 1\n",
       "\\item 10\n",
       "\\item 3\n",
       "\\item 7\n",
       "\\item 2\n",
       "\\item 2\n",
       "\\item 10\n",
       "\\item 3\n",
       "\\item 2\n",
       "\\item 6\n",
       "\\item 7\n",
       "\\item 4\n",
       "\\item 5\n",
       "\\item 6\n",
       "\\item 1\n",
       "\\item 4\n",
       "\\item 4\n",
       "\\item 5\n",
       "\\item 6\n",
       "\\item 2\n",
       "\\item 3\n",
       "\\item 4\n",
       "\\item 7\n",
       "\\item 3\n",
       "\\item 1\n",
       "\\item 7\n",
       "\\item 3\n",
       "\\item 3\n",
       "\\item 4\n",
       "\\item 3\n",
       "\\item 2\n",
       "\\item 1\n",
       "\\item 8\n",
       "\\item 8\n",
       "\\item 9\n",
       "\\item 8\n",
       "\\item 2\n",
       "\\item 3\n",
       "\\item 1\n",
       "\\item 5\n",
       "\\item 2\n",
       "\\item 2\n",
       "\\item 4\n",
       "\\item 10\n",
       "\\item 6\n",
       "\\item 1\n",
       "\\item 4\n",
       "\\item 10\n",
       "\\item 5\n",
       "\\item 3\n",
       "\\item 2\n",
       "\\item 10\n",
       "\\item 3\n",
       "\\item 7\n",
       "\\item 9\n",
       "\\item 6\n",
       "\\item 10\n",
       "\\item 8\n",
       "\\item 4\n",
       "\\item 10\n",
       "\\item 5\n",
       "\\item 1\n",
       "\\item 1\n",
       "\\item 1\n",
       "\\item 3\n",
       "\\item 4\n",
       "\\item 8\n",
       "\\item 3\n",
       "\\item 1\n",
       "\\item 8\n",
       "\\item 8\n",
       "\\item 8\n",
       "\\item 5\n",
       "\\item 1\n",
       "\\item 5\n",
       "\\item 7\n",
       "\\item 7\n",
       "\\item 1\n",
       "\\item 10\n",
       "\\item 2\n",
       "\\item 10\n",
       "\\item 9\n",
       "\\item 8\n",
       "\\item 1\n",
       "\\item 5\n",
       "\\item 5\n",
       "\\item 1\n",
       "\\item 4\n",
       "\\item 5\n",
       "\\item 6\n",
       "\\item 6\n",
       "\\item 10\n",
       "\\item 3\n",
       "\\item 4\n",
       "\\item 4\n",
       "\\item 1\n",
       "\\item 1\n",
       "\\item 10\n",
       "\\item 5\n",
       "\\item 2\n",
       "\\item 6\n",
       "\\item 5\n",
       "\\item 2\n",
       "\\item 3\n",
       "\\item 6\n",
       "\\item 8\n",
       "\\item 4\n",
       "\\item 7\n",
       "\\item 9\n",
       "\\item 4\n",
       "\\item 5\n",
       "\\item 6\n",
       "\\item 9\n",
       "\\item 10\n",
       "\\item 2\n",
       "\\item 10\n",
       "\\item 10\n",
       "\\item 5\n",
       "\\item 10\n",
       "\\item 3\n",
       "\\item 10\n",
       "\\item 4\n",
       "\\item 6\n",
       "\\item 7\n",
       "\\item 10\n",
       "\\item 8\n",
       "\\item 3\n",
       "\\item 4\n",
       "\\item 10\n",
       "\\item 2\n",
       "\\item 9\n",
       "\\item 6\n",
       "\\item 3\n",
       "\\item 6\n",
       "\\item 10\n",
       "\\item 4\n",
       "\\item 9\n",
       "\\item 1\n",
       "\\item 7\n",
       "\\item 9\n",
       "\\item 6\n",
       "\\item 6\n",
       "\\item 1\n",
       "\\item 10\n",
       "\\item 8\n",
       "\\item 5\n",
       "\\item 9\n",
       "\\item 7\n",
       "\\item 9\n",
       "\\item 2\n",
       "\\item 7\n",
       "\\end{enumerate*}\n"
      ],
      "text/markdown": [
       "1. 4\n",
       "2. 1\n",
       "3. 9\n",
       "4. 3\n",
       "5. 8\n",
       "6. 2\n",
       "7. 4\n",
       "8. 6\n",
       "9. 1\n",
       "10. 6\n",
       "11. 4\n",
       "12. 1\n",
       "13. 2\n",
       "14. 8\n",
       "15. 2\n",
       "16. 8\n",
       "17. 5\n",
       "18. 8\n",
       "19. 9\n",
       "20. 3\n",
       "21. 9\n",
       "22. 5\n",
       "23. 4\n",
       "24. 7\n",
       "25. 3\n",
       "26. 10\n",
       "27. 5\n",
       "28. 3\n",
       "29. 7\n",
       "30. 2\n",
       "31. 1\n",
       "32. 3\n",
       "33. 7\n",
       "34. 5\n",
       "35. 1\n",
       "36. 10\n",
       "37. 3\n",
       "38. 8\n",
       "39. 8\n",
       "40. 2\n",
       "41. 3\n",
       "42. 6\n",
       "43. 3\n",
       "44. 7\n",
       "45. 5\n",
       "46. 10\n",
       "47. 7\n",
       "48. 7\n",
       "49. 7\n",
       "50. 8\n",
       "51. 6\n",
       "52. 9\n",
       "53. 4\n",
       "54. 6\n",
       "55. 5\n",
       "56. 1\n",
       "57. 5\n",
       "58. 1\n",
       "59. 10\n",
       "60. 8\n",
       "61. 2\n",
       "62. 9\n",
       "63. 4\n",
       "64. 7\n",
       "65. 5\n",
       "66. 1\n",
       "67. 9\n",
       "68. 5\n",
       "69. 6\n",
       "70. 6\n",
       "71. 6\n",
       "72. 7\n",
       "73. 6\n",
       "74. 5\n",
       "75. 6\n",
       "76. 9\n",
       "77. 3\n",
       "78. 9\n",
       "79. 5\n",
       "80. 8\n",
       "81. 7\n",
       "82. 2\n",
       "83. 9\n",
       "84. 4\n",
       "85. 4\n",
       "86. 9\n",
       "87. 2\n",
       "88. 9\n",
       "89. 7\n",
       "90. 9\n",
       "91. 2\n",
       "92. 10\n",
       "93. 9\n",
       "94. 10\n",
       "95. 9\n",
       "96. 7\n",
       "97. 2\n",
       "98. 9\n",
       "99. 9\n",
       "100. 8\n",
       "101. 8\n",
       "102. 3\n",
       "103. 2\n",
       "104. 1\n",
       "105. 8\n",
       "106. 8\n",
       "107. 8\n",
       "108. 7\n",
       "109. 4\n",
       "110. 7\n",
       "111. 6\n",
       "112. 2\n",
       "113. 1\n",
       "114. 10\n",
       "115. 3\n",
       "116. 7\n",
       "117. 2\n",
       "118. 2\n",
       "119. 10\n",
       "120. 3\n",
       "121. 2\n",
       "122. 6\n",
       "123. 7\n",
       "124. 4\n",
       "125. 5\n",
       "126. 6\n",
       "127. 1\n",
       "128. 4\n",
       "129. 4\n",
       "130. 5\n",
       "131. 6\n",
       "132. 2\n",
       "133. 3\n",
       "134. 4\n",
       "135. 7\n",
       "136. 3\n",
       "137. 1\n",
       "138. 7\n",
       "139. 3\n",
       "140. 3\n",
       "141. 4\n",
       "142. 3\n",
       "143. 2\n",
       "144. 1\n",
       "145. 8\n",
       "146. 8\n",
       "147. 9\n",
       "148. 8\n",
       "149. 2\n",
       "150. 3\n",
       "151. 1\n",
       "152. 5\n",
       "153. 2\n",
       "154. 2\n",
       "155. 4\n",
       "156. 10\n",
       "157. 6\n",
       "158. 1\n",
       "159. 4\n",
       "160. 10\n",
       "161. 5\n",
       "162. 3\n",
       "163. 2\n",
       "164. 10\n",
       "165. 3\n",
       "166. 7\n",
       "167. 9\n",
       "168. 6\n",
       "169. 10\n",
       "170. 8\n",
       "171. 4\n",
       "172. 10\n",
       "173. 5\n",
       "174. 1\n",
       "175. 1\n",
       "176. 1\n",
       "177. 3\n",
       "178. 4\n",
       "179. 8\n",
       "180. 3\n",
       "181. 1\n",
       "182. 8\n",
       "183. 8\n",
       "184. 8\n",
       "185. 5\n",
       "186. 1\n",
       "187. 5\n",
       "188. 7\n",
       "189. 7\n",
       "190. 1\n",
       "191. 10\n",
       "192. 2\n",
       "193. 10\n",
       "194. 9\n",
       "195. 8\n",
       "196. 1\n",
       "197. 5\n",
       "198. 5\n",
       "199. 1\n",
       "200. 4\n",
       "201. 5\n",
       "202. 6\n",
       "203. 6\n",
       "204. 10\n",
       "205. 3\n",
       "206. 4\n",
       "207. 4\n",
       "208. 1\n",
       "209. 1\n",
       "210. 10\n",
       "211. 5\n",
       "212. 2\n",
       "213. 6\n",
       "214. 5\n",
       "215. 2\n",
       "216. 3\n",
       "217. 6\n",
       "218. 8\n",
       "219. 4\n",
       "220. 7\n",
       "221. 9\n",
       "222. 4\n",
       "223. 5\n",
       "224. 6\n",
       "225. 9\n",
       "226. 10\n",
       "227. 2\n",
       "228. 10\n",
       "229. 10\n",
       "230. 5\n",
       "231. 10\n",
       "232. 3\n",
       "233. 10\n",
       "234. 4\n",
       "235. 6\n",
       "236. 7\n",
       "237. 10\n",
       "238. 8\n",
       "239. 3\n",
       "240. 4\n",
       "241. 10\n",
       "242. 2\n",
       "243. 9\n",
       "244. 6\n",
       "245. 3\n",
       "246. 6\n",
       "247. 10\n",
       "248. 4\n",
       "249. 9\n",
       "250. 1\n",
       "251. 7\n",
       "252. 9\n",
       "253. 6\n",
       "254. 6\n",
       "255. 1\n",
       "256. 10\n",
       "257. 8\n",
       "258. 5\n",
       "259. 9\n",
       "260. 7\n",
       "261. 9\n",
       "262. 2\n",
       "263. 7\n",
       "\n",
       "\n"
      ],
      "text/plain": [
       "  [1]  4  1  9  3  8  2  4  6  1  6  4  1  2  8  2  8  5  8  9  3  9  5  4  7  3\n",
       " [26] 10  5  3  7  2  1  3  7  5  1 10  3  8  8  2  3  6  3  7  5 10  7  7  7  8\n",
       " [51]  6  9  4  6  5  1  5  1 10  8  2  9  4  7  5  1  9  5  6  6  6  7  6  5  6\n",
       " [76]  9  3  9  5  8  7  2  9  4  4  9  2  9  7  9  2 10  9 10  9  7  2  9  9  8\n",
       "[101]  8  3  2  1  8  8  8  7  4  7  6  2  1 10  3  7  2  2 10  3  2  6  7  4  5\n",
       "[126]  6  1  4  4  5  6  2  3  4  7  3  1  7  3  3  4  3  2  1  8  8  9  8  2  3\n",
       "[151]  1  5  2  2  4 10  6  1  4 10  5  3  2 10  3  7  9  6 10  8  4 10  5  1  1\n",
       "[176]  1  3  4  8  3  1  8  8  8  5  1  5  7  7  1 10  2 10  9  8  1  5  5  1  4\n",
       "[201]  5  6  6 10  3  4  4  1  1 10  5  2  6  5  2  3  6  8  4  7  9  4  5  6  9\n",
       "[226] 10  2 10 10  5 10  3 10  4  6  7 10  8  3  4 10  2  9  6  3  6 10  4  9  1\n",
       "[251]  7  9  6  6  1 10  8  5  9  7  9  2  7"
      ]
     },
     "metadata": {},
     "output_type": "display_data"
    },
    {
     "data": {
      "text/plain": [
       "folds\n",
       " 1  2  3  4  5  6  7  8  9 10 \n",
       "27 27 27 26 26 26 26 26 26 26 "
      ]
     },
     "metadata": {},
     "output_type": "display_data"
    }
   ],
   "source": [
    "folds=sample(rep(1:10,length=nrow(Hitters)))\n",
    "folds\n",
    "table(folds)"
   ]
  },
  {
   "cell_type": "markdown",
   "id": "df629a9e-4487-4e74-a6e8-d85c31ae1d4e",
   "metadata": {},
   "source": [
    "- Cria 10 folds para validação cruzada\n",
    "- Garante distribuição balanceada das amostras"
   ]
  },
  {
   "cell_type": "code",
   "execution_count": 14,
   "id": "806ca9b7-2a99-405a-9d86-a4da54b72695",
   "metadata": {},
   "outputs": [
    {
     "data": {
      "text/html": [
       "6"
      ],
      "text/latex": [
       "6"
      ],
      "text/markdown": [
       "6"
      ],
      "text/plain": [
       "[1] 6"
      ]
     },
     "metadata": {},
     "output_type": "display_data"
    },
    {
     "data": {
      "image/png": "[encoded data removed]",
      "text/plain": [
       "Plot with title \"Seleção por Validação Cruzada\""
      ]
     },
     "metadata": {
      "image/png": {
       "height": 420,
       "width": 420
      }
     },
     "output_type": "display_data"
    }
   ],
   "source": [
    "# Estrutura de Armazenamento\n",
    "cv.errors = matrix(NA, 10, 19) # 10 folds × 19 modelos (1-19 variáveis)\n",
    "\n",
    "# Validação Cruzada\n",
    "for (k in 1:10) {\n",
    "    # Modelo com todos os folds exceto o k-ésimo\n",
    "    best.fit = regsubsets(Salary ~ ., \n",
    "                         data = Hitters[folds != k,], \n",
    "                         nvmax = 19, \n",
    "                         method = \"forward\")\n",
    "    \n",
    "    for (i in 1:19) {\n",
    "        pred = predict(best.fit, Hitters[folds == k,], id = i)\n",
    "        cv.errors[k, i] = mean((Hitters$Salary[folds == k] - pred)^2)\n",
    "    }\n",
    "}\n",
    "\n",
    "# Cálculo do erro final\n",
    "rmse.cv = sqrt(apply(cv.errors, 2, mean))  # RMSE para cada modelo\n",
    "which.min(rmse.cv)  # Retorna 11 (modelo ótimo)\n",
    "\n",
    "# RMSE para diferentes números de variáveis. \n",
    "plot(rmse.cv, pch = 19, type = \"b\", \n",
    "     xlab = \"Número de Variáveis\", \n",
    "     ylab = \"Root Mean Squared Error (RMSE)\",\n",
    "     main = \"Seleção por Validação Cruzada\")"
   ]
  },
  {
   "cell_type": "markdown",
   "id": "e52f36ef-2f5d-4b53-b9b3-6719f6bda120",
   "metadata": {},
   "source": [
    "1. **Modelo definitivo**: 11 variáveis (menor RMSE na validação cruzada)\n",
    "2. **Vantagens**:\n",
    "   - Redução no erro comparado aos métodos anteriores\n",
    "   - Maior robustez estatística"
   ]
  },
  {
   "cell_type": "code",
   "execution_count": 15,
   "id": "a1502942-5edd-455b-bf84-8fda366967fb",
   "metadata": {},
   "outputs": [
    {
     "data": {
      "text/html": [
       "<style>\n",
       ".dl-inline {width: auto; margin:0; padding: 0}\n",
       ".dl-inline>dt, .dl-inline>dd {float: none; width: auto; display: inline-block}\n",
       ".dl-inline>dt::after {content: \":\\0020\"; padding-right: .5ex}\n",
       ".dl-inline>dt:not(:first-of-type) {padding-left: .5ex}\n",
       "</style><dl class=dl-inline><dt>(Intercept)</dt><dd>135.751219457458</dd><dt>AtBat</dt><dd>-2.1277481960387</dd><dt>Hits</dt><dd>6.92369939666554</dd><dt>Walks</dt><dd>5.62027551957867</dd><dt>CAtBat</dt><dd>-0.138991434861849</dd><dt>CRuns</dt><dd>1.45533103037943</dd><dt>CRBI</dt><dd>0.785252782049431</dd><dt>CWalks</dt><dd>-0.822855923951918</dd><dt>LeagueN</dt><dd>43.1116151638512</dd><dt>DivisionW</dt><dd>-111.14602518374</dd><dt>PutOuts</dt><dd>0.289408680295374</dd><dt>Assists</dt><dd>0.268827690034942</dd></dl>\n"
      ],
      "text/latex": [
       "\\begin{description*}\n",
       "\\item[(Intercept)] 135.751219457458\n",
       "\\item[AtBat] -2.1277481960387\n",
       "\\item[Hits] 6.92369939666554\n",
       "\\item[Walks] 5.62027551957867\n",
       "\\item[CAtBat] -0.138991434861849\n",
       "\\item[CRuns] 1.45533103037943\n",
       "\\item[CRBI] 0.785252782049431\n",
       "\\item[CWalks] -0.822855923951918\n",
       "\\item[LeagueN] 43.1116151638512\n",
       "\\item[DivisionW] -111.14602518374\n",
       "\\item[PutOuts] 0.289408680295374\n",
       "\\item[Assists] 0.268827690034942\n",
       "\\end{description*}\n"
      ],
      "text/markdown": [
       "(Intercept)\n",
       ":   135.751219457458AtBat\n",
       ":   -2.1277481960387Hits\n",
       ":   6.92369939666554Walks\n",
       ":   5.62027551957867CAtBat\n",
       ":   -0.138991434861849CRuns\n",
       ":   1.45533103037943CRBI\n",
       ":   0.785252782049431CWalks\n",
       ":   -0.822855923951918LeagueN\n",
       ":   43.1116151638512DivisionW\n",
       ":   -111.14602518374PutOuts\n",
       ":   0.289408680295374Assists\n",
       ":   0.268827690034942\n",
       "\n"
      ],
      "text/plain": [
       " (Intercept)        AtBat         Hits        Walks       CAtBat        CRuns \n",
       " 135.7512195   -2.1277482    6.9236994    5.6202755   -0.1389914    1.4553310 \n",
       "        CRBI       CWalks      LeagueN    DivisionW      PutOuts      Assists \n",
       "   0.7852528   -0.8228559   43.1116152 -111.1460252    0.2894087    0.2688277 "
      ]
     },
     "metadata": {},
     "output_type": "display_data"
    }
   ],
   "source": [
    "final_model <- regsubsets(Salary ~ ., data = Hitters,\n",
    "                         nvmax = 11, method = \"forward\")\n",
    "coef(final_model, 11)  # Variáveis selecionadas"
   ]
  },
  {
   "cell_type": "markdown",
   "id": "67199191-addd-49fe-ba6d-7e3deef1d3f9",
   "metadata": {},
   "source": [
    "- A diferença para os resultados anteriores (10 vs 11 variáveis) ocorre porque:\n",
    "  - A validação cruzada reduz o *overfitting*\n",
    "  - Considera melhor a variabilidade dos dados\n",
    "- O aumento de 1 variável trouxe ganho significativo na precisão (p-value < 0.05 em teste F)"
   ]
  },
  {
   "cell_type": "markdown",
   "id": "ab0b07e9-8c9a-41c3-ad94-3043cdde48b4",
   "metadata": {},
   "source": [
    "#### Ridge Regression and the Lasso\n",
    "- Ajuste modelos de regressão Ridge e Lasso usando o pacote `glmnet`.\n",
    "- Plote os resultados da regressão Ridge e a validação cruzada.\n",
    "- Identifique o valor ótimo de lambda para a regressão Lasso."
   ]
  },
  {
   "cell_type": "code",
   "execution_count": 16,
   "id": "ca036b23-8c62-44df-a616-c568fc5db16a",
   "metadata": {},
   "outputs": [
    {
     "name": "stderr",
     "output_type": "stream",
     "text": [
      "Loading required package: Matrix\n",
      "\n",
      "Loaded glmnet 4.1-8\n",
      "\n"
     ]
    }
   ],
   "source": [
    "# Preparação dos dados\n",
    "library(glmnet)\n",
    "\n",
    "# Matriz de design\n",
    "x=model.matrix(Salary~.-1,data=Hitters)\n",
    "\n",
    "# Variável resposta\n",
    "y=Hitters$Salary"
   ]
  },
  {
   "cell_type": "code",
   "execution_count": 17,
   "id": "7bb0303f-fbb2-4a58-9934-45715f2490b2",
   "metadata": {
    "scrolled": true
   },
   "outputs": [
    {
     "data": {
      "image/png": "[encoded data removed]",
      "text/plain": [
       "plot without title"
      ]
     },
     "metadata": {
      "image/png": {
       "height": 420,
       "width": 420
      }
     },
     "output_type": "display_data"
    },
    {
     "data": {
      "image/png": "[encoded data removed]",
      "text/plain": [
       "plot without title"
      ]
     },
     "metadata": {
      "image/png": {
       "height": 420,
       "width": 420
      }
     },
     "output_type": "display_data"
    }
   ],
   "source": [
    "# Ajusta um modelo de Ridge Regression usando a função glmnet com alpha = 0 para garantir a penalização Ridge\n",
    "fit.ridge=glmnet(x,y,alpha=0)\n",
    "\n",
    "# Gera o perfil dos caminhos dos coeficientes Ridge ao longo de diferentes valores do logaritmo de lambda\n",
    "plot(fit.ridge,xvar=\"lambda\",label=TRUE)\n",
    "\n",
    "# Realiza validação cruzada para escolher o melhor valor de lambda\n",
    "cv.ridge=cv.glmnet(x,y,alpha=0)\n",
    "\n",
    "# Gera um gráfico com o RMSE para diferentes valores de lambda\n",
    "plot(cv.ridge)"
   ]
  },
  {
   "cell_type": "markdown",
   "id": "15d4516f-d15d-4a47-b54f-f566491bbfcd",
   "metadata": {},
   "source": [
    "Analisando os gráficos gerados, percebe-se que o menor valor de RMSE está para o menor valor do logaritmo de lambda. Além disso, outro ponto está assinalado no segundo gráfico, onde o logaritmo de lambda é aproximadamente 8, que indica o momento de convergência dos 20 coeficientes de Ridge para 0. É importante atentar-se que, após esta convergência, o número de coeficientes não alterou conforme o valor de lambda, isso pode indicar um possível \\textit{overfitting}."
   ]
  },
  {
   "cell_type": "code",
   "execution_count": 18,
   "id": "54659d2d-f63b-494e-aab8-43df879857ef",
   "metadata": {},
   "outputs": [
    {
     "data": {
      "image/png": "[encoded data removed]",
      "text/plain": [
       "plot without title"
      ]
     },
     "metadata": {
      "image/png": {
       "height": 420,
       "width": 420
      }
     },
     "output_type": "display_data"
    },
    {
     "data": {
      "image/png": "[encoded data removed]",
      "text/plain": [
       "plot without title"
      ]
     },
     "metadata": {
      "image/png": {
       "height": 420,
       "width": 420
      }
     },
     "output_type": "display_data"
    }
   ],
   "source": [
    "# Ajusta um modelo de Lasso Regression usando a função glmnet (alpha = 1)\n",
    "fit.lasso=glmnet(x,y)\n",
    "\n",
    "# Gera o perfil do caminho do coeficiente Lasso ao longo de diferentes valores do logaritmo de lambda\n",
    "plot(fit.lasso,xvar=\"lambda\",label=TRUE)\n",
    "\n",
    "# Realiza validação cruzada para escolher o melhor valor de lambda\n",
    "cv.lasso=cv.glmnet(x,y)\n",
    "\n",
    "# Gera um gráfico do RMSE para diferentes valores do logaritmo de lambda\n",
    "plot(cv.lasso)"
   ]
  },
  {
   "cell_type": "markdown",
   "id": "b0235893-8fc1-4c55-bc3f-adb877c68e6e",
   "metadata": {},
   "source": [
    "Analisando os gráficos gerados, percebe-se que o menor valor de RMSE está para o pontilhado entre 0 e 2 no valor do logaritmo de lambda. Além disso, outro ponto está assinalado no segundo gráfico, onde o logaritmo de lambda é ligeiramente maior que 4, que indica o momento de convergência dos 6 coeficientes de Lasso para 0. Nota-se que em comparação ao modelo de regressão Ridge, o número de coeficientes é menor para praticamente o mesmo resultado de RMSE. Este fato pode indicar o possível overfitting do modelo, indicando que a regressão Lasso é superior neste caso. É importante verificar este trade-off entre o RMSE e o overfitting. A validação cruzada ajuda a mitigar esse problema."
   ]
  },
  {
   "cell_type": "code",
   "execution_count": 19,
   "id": "f64c9822-6924-49ae-b41f-587dde28eebf",
   "metadata": {},
   "outputs": [
    {
     "data": {
      "text/plain": [
       "21 x 1 sparse Matrix of class \"dgCMatrix\"\n",
       "                      s1\n",
       "(Intercept) 193.74263858\n",
       "AtBat         .         \n",
       "Hits          1.21471320\n",
       "HmRun         .         \n",
       "Runs          .         \n",
       "RBI           .         \n",
       "Walks         1.28957902\n",
       "Years         .         \n",
       "CAtBat        .         \n",
       "CHits         .         \n",
       "CHmRun        .         \n",
       "CRuns         0.12923755\n",
       "CRBI          0.31515925\n",
       "CWalks        .         \n",
       "LeagueA       .         \n",
       "LeagueN       .         \n",
       "DivisionW     .         \n",
       "PutOuts       0.02533305\n",
       "Assists       .         \n",
       "Errors        .         \n",
       "NewLeagueN    .         "
      ]
     },
     "metadata": {},
     "output_type": "display_data"
    }
   ],
   "source": [
    "# Exibe os coeficientes selecionados pelo Lasso para o melhor valor de lambda.\n",
    "coef(cv.lasso)"
   ]
  },
  {
   "cell_type": "code",
   "execution_count": 20,
   "id": "0cf84273-74f4-43a3-9a76-5eb165e8c2b3",
   "metadata": {},
   "outputs": [
    {
     "data": {
      "text/plain": [
       "\n",
       "Call:  glmnet(x = x[train, ], y = y[train]) \n",
       "\n",
       "   Df  %Dev  Lambda\n",
       "1   0  0.00 303.400\n",
       "2   1  6.97 276.500\n",
       "3   1 12.75 251.900\n",
       "4   1 17.56 229.500\n",
       "5   2 21.60 209.200\n",
       "6   2 24.97 190.600\n",
       "7   2 27.77 173.600\n",
       "8   2 30.10 158.200\n",
       "9   2 32.03 144.200\n",
       "10  3 34.05 131.400\n",
       "11  4 36.63 119.700\n",
       "12  4 38.83 109.100\n",
       "13  4 40.66  99.360\n",
       "14  4 42.18  90.540\n",
       "15  4 43.44  82.490\n",
       "16  4 44.48  75.170\n",
       "17  4 45.35  68.490\n",
       "18  4 46.07  62.400\n",
       "19  5 46.81  56.860\n",
       "20  6 47.48  51.810\n",
       "21  6 48.04  47.210\n",
       "22  6 48.52  43.010\n",
       "23  6 48.91  39.190\n",
       "24  6 49.24  35.710\n",
       "25  7 49.51  32.540\n",
       "26  7 49.74  29.650\n",
       "27  7 49.93  27.010\n",
       "28  7 50.08  24.610\n",
       "29  7 50.21  22.430\n",
       "30  7 50.32  20.430\n",
       "31  7 50.41  18.620\n",
       "32  8 50.53  16.970\n",
       "33  9 50.63  15.460\n",
       "34  9 50.73  14.080\n",
       "35  9 50.82  12.830\n",
       "36  9 50.89  11.690\n",
       "37  9 50.95  10.650\n",
       "38 11 51.31   9.708\n",
       "39 11 51.89   8.846\n",
       "40 13 52.65   8.060\n",
       "41 13 53.39   7.344\n",
       "42 13 54.00   6.691\n",
       "43 13 54.50   6.097\n",
       "44 13 54.93   5.555\n",
       "45 13 55.28   5.062\n",
       "46 13 55.57   4.612\n",
       "47 13 55.81   4.202\n",
       "48 14 56.07   3.829\n",
       "49 15 56.51   3.489\n",
       "50 15 56.88   3.179\n",
       "51 15 57.19   2.897\n",
       "52 15 57.44   2.639\n",
       "53 16 57.65   2.405\n",
       "54 17 57.87   2.191\n",
       "55 18 58.10   1.996\n",
       "56 17 58.32   1.819\n",
       "57 17 58.51   1.658\n",
       "58 17 58.66   1.510\n",
       "59 17 58.78   1.376\n",
       "60 17 58.89   1.254\n",
       "61 17 58.98   1.142\n",
       "62 19 59.05   1.041\n",
       "63 19 59.14   0.949\n",
       "64 19 59.21   0.864\n",
       "65 19 59.28   0.787\n",
       "66 19 59.33   0.718\n",
       "67 19 59.37   0.654\n",
       "68 19 59.40   0.596\n",
       "69 19 59.43   0.543\n",
       "70 19 59.46   0.494\n",
       "71 19 59.48   0.451\n",
       "72 19 59.50   0.411\n",
       "73 19 59.51   0.374\n",
       "74 19 59.53   0.341\n",
       "75 19 59.54   0.311\n",
       "76 19 59.55   0.283\n",
       "77 19 59.55   0.258\n",
       "78 19 59.56   0.235\n",
       "79 19 59.57   0.214\n",
       "80 19 59.57   0.195\n",
       "81 20 59.57   0.178\n",
       "82 20 59.58   0.162\n",
       "83 20 59.58   0.148\n",
       "84 20 59.58   0.134\n",
       "85 20 59.58   0.122\n",
       "86 20 59.59   0.112\n",
       "87 20 59.59   0.102\n",
       "88 20 59.59   0.093\n",
       "89 20 59.59   0.084\n",
       "90 20 59.59   0.077\n",
       "91 20 59.59   0.070\n",
       "92 20 59.59   0.064\n",
       "93 20 59.59   0.058\n",
       "94 20 59.59   0.053"
      ]
     },
     "metadata": {},
     "output_type": "display_data"
    }
   ],
   "source": [
    "# Ajusta um modelo Lasso no conjunto de treino usando a função glmnet\n",
    "lasso.tr=glmnet(x[train,],y[train])\n",
    "lasso.tr"
   ]
  },
  {
   "cell_type": "code",
   "execution_count": 21,
   "id": "b1833b1f-ac49-4729-b4f4-4dc93e7ee949",
   "metadata": {},
   "outputs": [
    {
     "data": {
      "text/html": [
       "<style>\n",
       ".list-inline {list-style: none; margin:0; padding: 0}\n",
       ".list-inline>li {display: inline-block}\n",
       ".list-inline>li:not(:last-child)::after {content: \"\\00b7\"; padding: 0 .5ex}\n",
       "</style>\n",
       "<ol class=list-inline><li>83</li><li>94</li></ol>\n"
      ],
      "text/latex": [
       "\\begin{enumerate*}\n",
       "\\item 83\n",
       "\\item 94\n",
       "\\end{enumerate*}\n"
      ],
      "text/markdown": [
       "1. 83\n",
       "2. 94\n",
       "\n",
       "\n"
      ],
      "text/plain": [
       "[1] 83 94"
      ]
     },
     "metadata": {},
     "output_type": "display_data"
    }
   ],
   "source": [
    "# Realiza previsões no conjunto de teste (complementar ao conjunto de treino)\n",
    "pred=predict(lasso.tr,x[-train,])\n",
    "\n",
    "# Verifica a dimensão das previsões\n",
    "dim(pred)"
   ]
  },
  {
   "cell_type": "code",
   "execution_count": 22,
   "id": "9e7f29cd-7c10-4262-95d8-6739a7cca4df",
   "metadata": {},
   "outputs": [
    {
     "data": {
      "image/png": "[encoded data removed]",
      "text/plain": [
       "plot without title"
      ]
     },
     "metadata": {
      "image/png": {
       "height": 420,
       "width": 420
      }
     },
     "output_type": "display_data"
    }
   ],
   "source": [
    "# Calcula o erro médio quadrático (RMSE) para diferentes valores do logaritmo de lambda\n",
    "rmse= sqrt(apply((y[-train]-pred)^2,2,mean))\n",
    "\n",
    "# Gera o gráfico do RMSE em função do logaritmo de lambda. Observe a figura a seguir\n",
    "plot(log(lasso.tr$lambda),rmse,type=\"b\",xlab=\"Log(lambda)\")"
   ]
  },
  {
   "cell_type": "code",
   "execution_count": 23,
   "id": "0ada5a12-239f-425f-80b8-c4c06d834cab",
   "metadata": {},
   "outputs": [
    {
     "data": {
      "text/html": [
       "3.82904381409608"
      ],
      "text/latex": [
       "3.82904381409608"
      ],
      "text/markdown": [
       "3.82904381409608"
      ],
      "text/plain": [
       "[1] 3.829044"
      ]
     },
     "metadata": {},
     "output_type": "display_data"
    },
    {
     "data": {
      "text/plain": [
       "21 x 1 sparse Matrix of class \"dgCMatrix\"\n",
       "                       s1\n",
       "(Intercept) 231.143568455\n",
       "AtBat        -1.589215285\n",
       "Hits          5.127564281\n",
       "HmRun         .          \n",
       "Runs          .          \n",
       "RBI           .          \n",
       "Walks         2.623463462\n",
       "Years        -9.423339852\n",
       "CAtBat       -0.003343695\n",
       "CHits         .          \n",
       "CHmRun        1.055956472\n",
       "CRuns         0.898115167\n",
       "CRBI          0.171862989\n",
       "CWalks       -0.519608025\n",
       "LeagueA     -37.736878803\n",
       "LeagueN       .          \n",
       "DivisionW   -91.427636644\n",
       "PutOuts       0.365154298\n",
       "Assists       0.190036478\n",
       "Errors       -1.164277457\n",
       "NewLeagueN    .          "
      ]
     },
     "metadata": {},
     "output_type": "display_data"
    }
   ],
   "source": [
    "# Identifica o melhor valor de lambda com base no menor RMSE\n",
    "lam.best=lasso.tr$lambda[order(rmse)[1]]\n",
    "lam.best\n",
    "\n",
    "# Exibe os coeficientes selecionados pelo Lasso para o melhor valor de lambda\n",
    "coef(lasso.tr,s=lam.best)"
   ]
  },
  {
   "cell_type": "markdown",
   "id": "44c24390-171e-4de1-bd20-ba47715f8bba",
   "metadata": {},
   "source": [
    "Analisando esta figura para o modelo Lasso com divisão de conjuntos de treino e de validação, conclui-se que o primeiro resultado do gráfico (o menor valor do logaritmo de lambda) é o melhor modelo apresentado entre os três até aqui. Porém, como mencionado anteriormente, é importante analisar o trade-off entre RMSE e número de coeficientes, visto que um maior número de coeficientes pode acarretar em overfitting do modelo. No mais, realizar a validação cruzada traz mais segurança sobre a robustez do modelo, reduzindo a chance de ocorrer este problema."
   ]
  }
 ],
 "metadata": {
  "kernelspec": {
   "display_name": "R",
   "language": "R",
   "name": "ir"
  },
  "language_info": {
   "codemirror_mode": "r",
   "file_extension": ".r",
   "mimetype": "text/x-r-source",
   "name": "R",
   "pygments_lexer": "r",
   "version": "4.5.0"
  }
 },
 "nbformat": 4,
 "nbformat_minor": 5
}
