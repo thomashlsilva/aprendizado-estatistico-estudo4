{
 "cells": [
  {
   "cell_type": "markdown",
   "id": "58ae2052-9b51-4554-a14f-abac22973214",
   "metadata": {
    "jp-MarkdownHeadingCollapsed": true
   },
   "source": [
    "## Disciplina: Aprendizado Estatístico\n",
    "\n",
    "### Estudo Dirigido 4\n",
    "\n",
    "#### Introdução\n",
    "Neste estudo dirigido, exploraremos o processo de seleção de modelos em estatística usando o conjunto de dados `Hitters` e `R`. Vamos abordar técnicas como Best Subset Regression, Forward Stepwise Selection, Model Selection Using a Validation Set, Model Selection by Cross Validation, Ridge Regression e Lasso Regression.\n",
    "\n",
    "#### Análise Inicial\n",
    "- Carregue o pacote `ISLR`.\n",
    "- Resuma as estatísticas descritivas do conjunto de dados `Hitters` com `summary(Hitters)`.\n",
    "- Remova os valores ausentes do conjunto de dados com `Hitters=na.omit(Hitters)`."
   ]
  },
  {
   "cell_type": "code",
   "execution_count": 1,
   "id": "a294cd7b-cd49-4cdf-bf97-95fe3eeeb14d",
   "metadata": {},
   "outputs": [
    {
     "ename": "NameError",
     "evalue": "name 'require' is not defined",
     "output_type": "error",
     "traceback": [
      "\u001b[31m---------------------------------------------------------------------------\u001b[39m",
      "\u001b[31mNameError\u001b[39m                                 Traceback (most recent call last)",
      "\u001b[36mCell\u001b[39m\u001b[36m \u001b[39m\u001b[32mIn[1]\u001b[39m\u001b[32m, line 1\u001b[39m\n\u001b[32m----> \u001b[39m\u001b[32m1\u001b[39m \u001b[43mrequire\u001b[49m(ISLR)\n",
      "\u001b[31mNameError\u001b[39m: name 'require' is not defined"
     ]
    }
   ],
   "source": [
    "library(ISLR)\n",
    "summary(Hitters)\n",
    "# Removendo dados faltantes:\n",
    "Hitters=na.omit(Hitters)\n",
    "with(Hitters,sum(is.na(Salary)))"
   ]
  },
  {
   "cell_type": "markdown",
   "id": "a68d6064-2e86-4ab0-8f29-c5b2b2fe4518",
   "metadata": {},
   "source": [
    "#### Best Subset Regression\n",
    "- Use o pacote `leaps` para realizar a seleção de modelos de `Best Subset` com diferentes tamanhos.\n",
    "- Plote o critério Cp em função do número de variáveis.\n",
    "- Identifique o modelo com o menor Cp."
   ]
  },
  {
   "cell_type": "code",
   "execution_count": null,
   "id": "0492444c-e180-457d-b7b1-8be3d714d558",
   "metadata": {},
   "outputs": [],
   "source": [
    "library(leaps)\n",
    "regfit.full=regsubsets(Salary~.,data=Hitters)\n",
    "summary(regfit.full)\n",
    "regfit.full=regsubsets(Salary~.,data=Hitters, nvmax=19)\n",
    "reg.summary=summary(regfit.full)\n",
    "names(reg.summary)\n",
    "plot(reg.summary$cp,xlab=\"Number of Variables\",ylab=\"Cp\")\n",
    "which.min(reg.summary$cp)\n",
    "points(10,reg.summary$cp[10],pch=20,col=\"red\")"
   ]
  },
  {
   "cell_type": "markdown",
   "id": "ea866678-fb37-4c1d-8253-68ffb289bd1b",
   "metadata": {},
   "source": [
    "#### Forward Stepwise Selection\n",
    "- Realize a seleção de modelos usando o método `Forward Stepwise Selection`.\n",
    "- Plote o critério Cp em função do número de variáveis."
   ]
  },
  {
   "cell_type": "code",
   "execution_count": null,
   "id": "b98eb260-abf7-471a-807a-312ebd59779c",
   "metadata": {},
   "outputs": [],
   "source": [
    "plot(regfit.full,scale=\"Cp\")\n",
    "coef(regfit.full,10)\n",
    "regfit.fwd=regsubsets(Salary~.,data=Hitters,nvmax=19,method=\"forward\")\n",
    "summary(regfit.fwd)\n",
    "plot(regfit.fwd,scale=\"Cp\")"
   ]
  },
  {
   "cell_type": "markdown",
   "id": "843426c4-5859-438a-907a-0ea3e57a59a1",
   "metadata": {},
   "source": [
    "#### Model Selection Using a Validation Set\n",
    "- Divida o conjunto de dados em treinamento e validação.\n",
    "- Realize a seleção de modelos no conjunto de treinamento.\n",
    "- Faça previsões no conjunto de validação e calcule os erros.\n",
    "- Plote os erros de treinamento e validação em função do número de variáveis."
   ]
  },
  {
   "cell_type": "code",
   "execution_count": null,
   "id": "9210ff38-6fbe-41e6-b772-29aba8ddfe4e",
   "metadata": {},
   "outputs": [],
   "source": [
    "dim(Hitters)\n",
    "train=sample(seq(263),180,replace=FALSE)\n",
    "train\n",
    "regfit.fwd=regsubsets(Salary~.,data=Hitters[train,],nvmax=19,method=\"forward\")\n",
    "val.errors=rep(NA,19)\n",
    "x.test=model.matrix(Salary~.,data=Hitters[-train,])# notice the -index!\n",
    "for(i in 1:19){\n",
    "    coefi=coef(regfit.fwd,id=i)\n",
    "    pred=x.test[,names(coefi)]%*%coefi\n",
    "    val.errors[i]=mean((Hitters$Salary[-train]-pred)^2)\n",
    "}\n",
    "plot(sqrt(val.errors),ylab=\"Root MSE\",ylim=c(300,400),pch=19,type=\"b\")\n",
    "points(sqrt(regfit.fwd$rss[-1]/180),col=\"blue\",pch=19,type=\"b\")\n",
    "legend(\"topright\",legend=c(\"Training\",\"Validation\"),col=c(\"blue\",\"black\"),pch=19)\n",
    "predict.regsubsets=function(object,newdata,id,...){\n",
    "    form=as.formula(object$call[[2]])\n",
    "    mat=model.matrix(form,newdata)\n",
    "    coefi=coef(object,id=id)\n",
    "    mat[,names(coefi)]%*%coefi\n",
    "}"
   ]
  },
  {
   "cell_type": "markdown",
   "id": "0b401c8d-87e7-4c6e-93fb-62f573c637fb",
   "metadata": {},
   "source": [
    "#### Model Selection by Cross-Validation\n",
    "- Realize a seleção de modelos usando a validação cruzada de 10-fold.\n",
    "- Plote os erros médios quadráticos em função do número de variáveis."
   ]
  },
  {
   "cell_type": "code",
   "execution_count": null,
   "id": "a8254237-d015-46f6-883e-cf0136aef377",
   "metadata": {},
   "outputs": [],
   "source": [
    "folds=sample(rep(1:10,length=nrow(Hitters)))\n",
    "folds\n",
    "table(folds)\n",
    "cv.errors=matrix(NA,10,19)\n",
    "for(k in 1:10){\n",
    "best.fit=regsubsets(Salary~.,data=Hitters[folds!=k,],nvmax=19,method=\"forward\")\n",
    "for(i in 1:19){\n",
    "pred=predict(best.fit,Hitters[folds==k,],id=i)\n",
    "cv.errors[k,i]=mean( (Hitters$Salary[folds==k]-pred)^2)\n",
    "}\n",
    "}\n",
    "rmse.cv=sqrt(apply(cv.errors,2,mean))\n",
    "plot(rmse.cv,pch=19,type=\"b\")"
   ]
  },
  {
   "cell_type": "markdown",
   "id": "ab0b07e9-8c9a-41c3-ad94-3043cdde48b4",
   "metadata": {},
   "source": [
    "#### Ridge Regression and the Lasso\n",
    "- Ajuste modelos de regressão Ridge e Lasso usando o pacote `glmnet`.\n",
    "- Plote os resultados da regressão Ridge e a validação cruzada.\n",
    "- Identifique o valor ótimo de lambda para a regressão Lasso."
   ]
  },
  {
   "cell_type": "code",
   "execution_count": null,
   "id": "ca036b23-8c62-44df-a616-c568fc5db16a",
   "metadata": {},
   "outputs": [],
   "source": [
    "library(glmnet)\n",
    "x=model.matrix(Salary~.-1,data=Hitters)\n",
    "y=Hitters$Salary\n",
    "fit.ridge=glmnet(x,y,alpha=0)\n",
    "plot(fit.ridge,xvar=\"lambda\",label=TRUE)\n",
    "cv.ridge=cv.glmnet(x,y,alpha=0)\n",
    "plot(cv.ridge)\n",
    "fit.lasso=glmnet(x,y)\n",
    "plot(fit.lasso,xvar=\"lambda\",label=TRUE)\n",
    "cv.lasso=cv.glmnet(x,y)\n",
    "plot(cv.lasso)\n",
    "coef(cv.lasso)\n",
    "lasso.tr=glmnet(x[train,],y[train])\n",
    "lasso.tr\n",
    "pred=predict(lasso.tr,x[-train,])\n",
    "dim(pred)\n",
    "rmse= sqrt(apply((y[-train]-pred)^2,2,mean))\n",
    "plot(log(lasso.tr$lambda),rmse,type=\"b\",xlab=\"Log(lambda)\")\n",
    "lam.best=lasso.tr$lambda[order(rmse)[1]]\n",
    "lam.best\n",
    "coef(lasso.tr,s=lam.best)"
   ]
  }
 ],
 "metadata": {
  "kernelspec": {
   "display_name": "Python 3 (ipykernel)",
   "language": "python",
   "name": "python3"
  },
  "language_info": {
   "codemirror_mode": {
    "name": "ipython",
    "version": 3
   },
   "file_extension": ".py",
   "mimetype": "text/x-python",
   "name": "python",
   "nbconvert_exporter": "python",
   "pygments_lexer": "ipython3",
   "version": "3.13.1"
  }
 },
 "nbformat": 4,
 "nbformat_minor": 5
}
